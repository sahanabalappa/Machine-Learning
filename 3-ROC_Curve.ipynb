{
  "cells": [
    {
      "metadata": {},
      "cell_type": "markdown",
      "source": "# Section 1.3: Accuracy and the Receiver Operating Characteristic (ROC) Curve\n\nJust how accurate is your machine-learning (ML) model? The question might seem trivial at first: just look at the percentage of predictions or classifications that it gets right. But examining only the accuracy score of an ML model tells only part of the story of its usefulness in the real world. All models produce false positives and false negatives; which of those should you tune your model to favor? If your model is to be used to identify individuals carrying an infectious disease, fewer false negatives at the cost of more false positives could be desirable. If you are making classifications in support of criminal cases, accepting more false negatives to avoid false positives might be essential.\n\n> **Learning objective:** By the end of this section, you should have a basic understanding of the different means of assessing the accuracy of an ML model and how the ROC curve can help you understand their relationship in your own models.\n\n## Accuracy\n\nTo assess the accuracy of a model, we need to create and fit one first."
    },
    {
      "metadata": {
        "trusted": true
      },
      "cell_type": "code",
      "source": "import pandas as pd\nimport numpy as np\nimport matplotlib.pyplot as plt\n%matplotlib inline",
      "execution_count": null,
      "outputs": []
    },
    {
      "metadata": {},
      "cell_type": "markdown",
      "source": "### Load and prepare the data\n\nWe'll again use the same dataset drawn from the [U.S. Department of Agriculture National Nutrient Database for Standard Reference](https://www.ars.usda.gov/northeast-area/beltsville-md-bhnrc/beltsville-human-nutrition-research-center/nutrient-data-laboratory/docs/usda-national-nutrient-database-for-standard-reference/) that you used in Sections 1.1 and 1.2. (Note that the path name is case sensitive.)"
    },
    {
      "metadata": {
        "trusted": true
      },
      "cell_type": "code",
      "source": "df = pd.read_csv('Data/USDA-nndb-combined.csv', encoding='latin_1')",
      "execution_count": null,
      "outputs": []
    },
    {
      "metadata": {},
      "cell_type": "markdown",
      "source": "Our model in this section doesn't like `NaN` values any more than principal-component analysis (PCA) did in Section 1.2, so we'll drop all rows with `NaN`s in them."
    },
    {
      "metadata": {},
      "cell_type": "markdown",
      "source": "> **Exercise**\n>\n> Drop all rows containing `NaN` values in `df`. (**Hint:** Refer to this page if you are unsure about which method to use to perform this action.)"
    },
    {
      "metadata": {
        "trusted": true
      },
      "cell_type": "code",
      "source": "df = df.dropna()",
      "execution_count": null,
      "outputs": []
    },
    {
      "metadata": {},
      "cell_type": "markdown",
      "source": "As we did in Section 1.2, let's divide our current dataset into descriptive and quantitative `DataFrame`s."
    },
    {
      "metadata": {
        "trusted": true
      },
      "cell_type": "code",
      "source": "desc_df = df.iloc[:, [0, 1, 2]+[i for i in range(50,54)]]\ndesc_df.set_index('NDB_No', inplace=True)\ndesc_df.head()",
      "execution_count": null,
      "outputs": []
    },
    {
      "metadata": {
        "trusted": true
      },
      "cell_type": "code",
      "source": "nutr_df = df.iloc[:, :-5]\nnutr_df = nutr_df.drop(['FoodGroup', 'Shrt_Desc'], axis=1)\nnutr_df.set_index('NDB_No', inplace=True)\nnutr_df.head()",
      "execution_count": null,
      "outputs": []
    },
    {
      "metadata": {},
      "cell_type": "markdown",
      "source": "Let's take a closer look at `nutr_df`. We'll use the `DataFrame` `describe()` method to do this, but, given the number of columns, we'll also want to transpose the `DataFrame` using the `T` attribute."
    },
    {
      "metadata": {
        "trusted": true
      },
      "cell_type": "code",
      "source": "nutr_df.describe().T",
      "execution_count": 16,
      "outputs": [
        {
          "output_type": "execute_result",
          "execution_count": 16,
          "data": {
            "text/html": "<div>\n<table border=\"1\" class=\"dataframe\">\n  <thead>\n    <tr style=\"text-align: right;\">\n      <th></th>\n      <th>count</th>\n      <th>mean</th>\n      <th>std</th>\n      <th>min</th>\n      <th>25%</th>\n      <th>50%</th>\n      <th>75%</th>\n      <th>max</th>\n    </tr>\n  </thead>\n  <tbody>\n    <tr>\n      <th>Water_(g)</th>\n      <td>2190.0</td>\n      <td>57.478785</td>\n      <td>28.967680</td>\n      <td>0.0</td>\n      <td>40.52500</td>\n      <td>65.0050</td>\n      <td>79.00000</td>\n      <td>99.900</td>\n    </tr>\n    <tr>\n      <th>Energ_Kcal</th>\n      <td>2190.0</td>\n      <td>211.590411</td>\n      <td>159.202299</td>\n      <td>0.0</td>\n      <td>83.00000</td>\n      <td>183.0000</td>\n      <td>292.75000</td>\n      <td>902.000</td>\n    </tr>\n    <tr>\n      <th>Protein_(g)</th>\n      <td>2190.0</td>\n      <td>12.953598</td>\n      <td>11.374432</td>\n      <td>0.0</td>\n      <td>2.21000</td>\n      <td>10.2300</td>\n      <td>22.56750</td>\n      <td>85.600</td>\n    </tr>\n    <tr>\n      <th>Lipid_Tot_(g)</th>\n      <td>2190.0</td>\n      <td>10.233342</td>\n      <td>14.428053</td>\n      <td>0.0</td>\n      <td>0.73250</td>\n      <td>5.4550</td>\n      <td>13.44000</td>\n      <td>100.000</td>\n    </tr>\n    <tr>\n      <th>Ash_(g)</th>\n      <td>2190.0</td>\n      <td>1.872539</td>\n      <td>4.021142</td>\n      <td>0.0</td>\n      <td>0.84000</td>\n      <td>1.1200</td>\n      <td>1.90000</td>\n      <td>99.800</td>\n    </tr>\n    <tr>\n      <th>Carbohydrt_(g)</th>\n      <td>2190.0</td>\n      <td>17.465584</td>\n      <td>24.703261</td>\n      <td>0.0</td>\n      <td>0.00000</td>\n      <td>5.3500</td>\n      <td>22.30000</td>\n      <td>99.980</td>\n    </tr>\n    <tr>\n      <th>Fiber_TD_(g)</th>\n      <td>2190.0</td>\n      <td>1.766393</td>\n      <td>4.052258</td>\n      <td>0.0</td>\n      <td>0.00000</td>\n      <td>0.0000</td>\n      <td>2.10000</td>\n      <td>53.200</td>\n    </tr>\n    <tr>\n      <th>Sugar_Tot_(g)</th>\n      <td>2190.0</td>\n      <td>7.202384</td>\n      <td>14.771906</td>\n      <td>0.0</td>\n      <td>0.00000</td>\n      <td>1.0600</td>\n      <td>6.40250</td>\n      <td>99.800</td>\n    </tr>\n    <tr>\n      <th>Calcium_(mg)</th>\n      <td>2190.0</td>\n      <td>76.131507</td>\n      <td>275.279336</td>\n      <td>0.0</td>\n      <td>11.00000</td>\n      <td>18.0000</td>\n      <td>55.00000</td>\n      <td>7364.000</td>\n    </tr>\n    <tr>\n      <th>Iron_(mg)</th>\n      <td>2190.0</td>\n      <td>1.901338</td>\n      <td>3.907270</td>\n      <td>0.0</td>\n      <td>0.45000</td>\n      <td>1.0800</td>\n      <td>2.34000</td>\n      <td>89.800</td>\n    </tr>\n    <tr>\n      <th>Magnesium_(mg)</th>\n      <td>2190.0</td>\n      <td>33.771689</td>\n      <td>56.919472</td>\n      <td>0.0</td>\n      <td>12.00000</td>\n      <td>21.0000</td>\n      <td>28.00000</td>\n      <td>711.000</td>\n    </tr>\n    <tr>\n      <th>Phosphorus_(mg)</th>\n      <td>2190.0</td>\n      <td>177.989954</td>\n      <td>309.351531</td>\n      <td>0.0</td>\n      <td>50.00000</td>\n      <td>153.0000</td>\n      <td>222.00000</td>\n      <td>9918.000</td>\n    </tr>\n    <tr>\n      <th>Potassium_(mg)</th>\n      <td>2190.0</td>\n      <td>300.216438</td>\n      <td>513.615512</td>\n      <td>0.0</td>\n      <td>135.00000</td>\n      <td>242.0000</td>\n      <td>340.00000</td>\n      <td>16500.000</td>\n    </tr>\n    <tr>\n      <th>Sodium_(mg)</th>\n      <td>2190.0</td>\n      <td>338.555251</td>\n      <td>1393.558568</td>\n      <td>0.0</td>\n      <td>41.00000</td>\n      <td>76.0000</td>\n      <td>347.00000</td>\n      <td>38758.000</td>\n    </tr>\n    <tr>\n      <th>Zinc_(mg)</th>\n      <td>2190.0</td>\n      <td>2.203644</td>\n      <td>3.816852</td>\n      <td>0.0</td>\n      <td>0.35000</td>\n      <td>1.0300</td>\n      <td>3.14000</td>\n      <td>90.950</td>\n    </tr>\n    <tr>\n      <th>Copper_mg)</th>\n      <td>2190.0</td>\n      <td>0.172789</td>\n      <td>0.400712</td>\n      <td>0.0</td>\n      <td>0.04900</td>\n      <td>0.0820</td>\n      <td>0.13800</td>\n      <td>6.100</td>\n    </tr>\n    <tr>\n      <th>Manganese_(mg)</th>\n      <td>2190.0</td>\n      <td>0.460642</td>\n      <td>3.304517</td>\n      <td>0.0</td>\n      <td>0.01300</td>\n      <td>0.0530</td>\n      <td>0.27450</td>\n      <td>125.000</td>\n    </tr>\n    <tr>\n      <th>Selenium_(Âµg)</th>\n      <td>2190.0</td>\n      <td>17.172603</td>\n      <td>45.020935</td>\n      <td>0.0</td>\n      <td>1.30000</td>\n      <td>13.1000</td>\n      <td>27.00000</td>\n      <td>1917.000</td>\n    </tr>\n    <tr>\n      <th>Vit_C_(mg)</th>\n      <td>2190.0</td>\n      <td>6.417169</td>\n      <td>45.413955</td>\n      <td>0.0</td>\n      <td>0.00000</td>\n      <td>0.0000</td>\n      <td>1.87500</td>\n      <td>1900.000</td>\n    </tr>\n    <tr>\n      <th>Thiamin_(mg)</th>\n      <td>2190.0</td>\n      <td>0.175046</td>\n      <td>0.357835</td>\n      <td>0.0</td>\n      <td>0.03600</td>\n      <td>0.0700</td>\n      <td>0.16875</td>\n      <td>10.990</td>\n    </tr>\n    <tr>\n      <th>Riboflavin_(mg)</th>\n      <td>2190.0</td>\n      <td>0.212651</td>\n      <td>0.297205</td>\n      <td>0.0</td>\n      <td>0.05700</td>\n      <td>0.1750</td>\n      <td>0.26500</td>\n      <td>4.000</td>\n    </tr>\n    <tr>\n      <th>Niacin_(mg)</th>\n      <td>2190.0</td>\n      <td>3.326551</td>\n      <td>3.610778</td>\n      <td>0.0</td>\n      <td>0.43900</td>\n      <td>2.4830</td>\n      <td>5.30000</td>\n      <td>45.249</td>\n    </tr>\n    <tr>\n      <th>Panto_Acid_mg)</th>\n      <td>2190.0</td>\n      <td>0.587619</td>\n      <td>0.986117</td>\n      <td>0.0</td>\n      <td>0.19700</td>\n      <td>0.4325</td>\n      <td>0.73950</td>\n      <td>22.624</td>\n    </tr>\n    <tr>\n      <th>Vit_B6_(mg)</th>\n      <td>2190.0</td>\n      <td>0.258067</td>\n      <td>0.314476</td>\n      <td>0.0</td>\n      <td>0.05000</td>\n      <td>0.1530</td>\n      <td>0.40600</td>\n      <td>5.899</td>\n    </tr>\n    <tr>\n      <th>Folate_Tot_(Âµg)</th>\n      <td>2190.0</td>\n      <td>31.040639</td>\n      <td>83.312945</td>\n      <td>0.0</td>\n      <td>3.00000</td>\n      <td>8.0000</td>\n      <td>28.00000</td>\n      <td>2340.000</td>\n    </tr>\n    <tr>\n      <th>Folic_Acid_(Âµg)</th>\n      <td>2190.0</td>\n      <td>8.912785</td>\n      <td>45.645937</td>\n      <td>0.0</td>\n      <td>0.00000</td>\n      <td>0.0000</td>\n      <td>0.00000</td>\n      <td>1286.000</td>\n    </tr>\n    <tr>\n      <th>Food_Folate_(Âµg)</th>\n      <td>2190.0</td>\n      <td>22.110959</td>\n      <td>68.913058</td>\n      <td>0.0</td>\n      <td>3.00000</td>\n      <td>8.0000</td>\n      <td>20.00000</td>\n      <td>2340.000</td>\n    </tr>\n    <tr>\n      <th>Choline_Tot_ (mg)</th>\n      <td>2190.0</td>\n      <td>47.033196</td>\n      <td>76.563341</td>\n      <td>0.0</td>\n      <td>10.70000</td>\n      <td>29.4500</td>\n      <td>71.00000</td>\n      <td>2403.300</td>\n    </tr>\n    <tr>\n      <th>Vit_B12_(Âµg)</th>\n      <td>2190.0</td>\n      <td>0.968900</td>\n      <td>1.817280</td>\n      <td>0.0</td>\n      <td>0.00000</td>\n      <td>0.2000</td>\n      <td>1.40750</td>\n      <td>20.090</td>\n    </tr>\n    <tr>\n      <th>Vit_A_IU</th>\n      <td>2190.0</td>\n      <td>500.626027</td>\n      <td>2265.925224</td>\n      <td>0.0</td>\n      <td>1.00000</td>\n      <td>16.0000</td>\n      <td>141.00000</td>\n      <td>49254.000</td>\n    </tr>\n    <tr>\n      <th>Retinol_(Âµg)</th>\n      <td>2190.0</td>\n      <td>28.106393</td>\n      <td>156.381750</td>\n      <td>0.0</td>\n      <td>0.00000</td>\n      <td>0.0000</td>\n      <td>8.00000</td>\n      <td>4220.000</td>\n    </tr>\n    <tr>\n      <th>Alpha_Carot_(Âµg)</th>\n      <td>2190.0</td>\n      <td>27.085388</td>\n      <td>230.276140</td>\n      <td>0.0</td>\n      <td>0.00000</td>\n      <td>0.0000</td>\n      <td>0.00000</td>\n      <td>4342.000</td>\n    </tr>\n    <tr>\n      <th>Beta_Carot_(Âµg)</th>\n      <td>2190.0</td>\n      <td>225.229680</td>\n      <td>1223.839613</td>\n      <td>0.0</td>\n      <td>0.00000</td>\n      <td>0.0000</td>\n      <td>11.00000</td>\n      <td>26162.000</td>\n    </tr>\n    <tr>\n      <th>Beta_Crypt_(Âµg)</th>\n      <td>2190.0</td>\n      <td>11.027397</td>\n      <td>157.599182</td>\n      <td>0.0</td>\n      <td>0.00000</td>\n      <td>0.0000</td>\n      <td>0.00000</td>\n      <td>6186.000</td>\n    </tr>\n    <tr>\n      <th>Lycopene_(Âµg)</th>\n      <td>2190.0</td>\n      <td>160.904566</td>\n      <td>1581.235863</td>\n      <td>0.0</td>\n      <td>0.00000</td>\n      <td>0.0000</td>\n      <td>0.00000</td>\n      <td>45902.000</td>\n    </tr>\n    <tr>\n      <th>Lut+Zea_ (Âµg)</th>\n      <td>2190.0</td>\n      <td>175.679452</td>\n      <td>1115.705926</td>\n      <td>0.0</td>\n      <td>0.00000</td>\n      <td>0.0000</td>\n      <td>26.00000</td>\n      <td>19697.000</td>\n    </tr>\n    <tr>\n      <th>Vit_E_(mg)</th>\n      <td>2190.0</td>\n      <td>0.996995</td>\n      <td>3.245555</td>\n      <td>0.0</td>\n      <td>0.11000</td>\n      <td>0.2400</td>\n      <td>0.63000</td>\n      <td>41.080</td>\n    </tr>\n    <tr>\n      <th>Vit_D_Âµg</th>\n      <td>2190.0</td>\n      <td>0.506438</td>\n      <td>2.067046</td>\n      <td>0.0</td>\n      <td>0.00000</td>\n      <td>0.0000</td>\n      <td>0.20000</td>\n      <td>28.100</td>\n    </tr>\n    <tr>\n      <th>Vit_K_(Âµg)</th>\n      <td>2190.0</td>\n      <td>13.420365</td>\n      <td>77.510651</td>\n      <td>0.0</td>\n      <td>0.10000</td>\n      <td>1.5000</td>\n      <td>4.20000</td>\n      <td>1714.500</td>\n    </tr>\n    <tr>\n      <th>FA_Sat_(g)</th>\n      <td>2190.0</td>\n      <td>3.424636</td>\n      <td>5.865374</td>\n      <td>0.0</td>\n      <td>0.13775</td>\n      <td>1.6375</td>\n      <td>4.27800</td>\n      <td>86.503</td>\n    </tr>\n    <tr>\n      <th>FA_Mono_(g)</th>\n      <td>2190.0</td>\n      <td>3.977950</td>\n      <td>6.594901</td>\n      <td>0.0</td>\n      <td>0.12300</td>\n      <td>1.9300</td>\n      <td>5.33675</td>\n      <td>83.689</td>\n    </tr>\n    <tr>\n      <th>FA_Poly_(g)</th>\n      <td>2190.0</td>\n      <td>1.924360</td>\n      <td>4.497885</td>\n      <td>0.0</td>\n      <td>0.16500</td>\n      <td>0.5550</td>\n      <td>1.62675</td>\n      <td>57.740</td>\n    </tr>\n    <tr>\n      <th>Cholestrl_(mg)</th>\n      <td>2190.0</td>\n      <td>42.655251</td>\n      <td>108.472712</td>\n      <td>0.0</td>\n      <td>0.00000</td>\n      <td>9.0000</td>\n      <td>74.00000</td>\n      <td>3100.000</td>\n    </tr>\n    <tr>\n      <th>Low_cal</th>\n      <td>2190.0</td>\n      <td>0.580365</td>\n      <td>0.493612</td>\n      <td>0.0</td>\n      <td>0.00000</td>\n      <td>1.0000</td>\n      <td>1.00000</td>\n      <td>1.000</td>\n    </tr>\n  </tbody>\n</table>\n</div>",
            "text/plain": "                    count        mean          std  min        25%       50%  \\\nWater_(g)          2190.0   57.478785    28.967680  0.0   40.52500   65.0050   \nEnerg_Kcal         2190.0  211.590411   159.202299  0.0   83.00000  183.0000   \nProtein_(g)        2190.0   12.953598    11.374432  0.0    2.21000   10.2300   \nLipid_Tot_(g)      2190.0   10.233342    14.428053  0.0    0.73250    5.4550   \nAsh_(g)            2190.0    1.872539     4.021142  0.0    0.84000    1.1200   \nCarbohydrt_(g)     2190.0   17.465584    24.703261  0.0    0.00000    5.3500   \nFiber_TD_(g)       2190.0    1.766393     4.052258  0.0    0.00000    0.0000   \nSugar_Tot_(g)      2190.0    7.202384    14.771906  0.0    0.00000    1.0600   \nCalcium_(mg)       2190.0   76.131507   275.279336  0.0   11.00000   18.0000   \nIron_(mg)          2190.0    1.901338     3.907270  0.0    0.45000    1.0800   \nMagnesium_(mg)     2190.0   33.771689    56.919472  0.0   12.00000   21.0000   \nPhosphorus_(mg)    2190.0  177.989954   309.351531  0.0   50.00000  153.0000   \nPotassium_(mg)     2190.0  300.216438   513.615512  0.0  135.00000  242.0000   \nSodium_(mg)        2190.0  338.555251  1393.558568  0.0   41.00000   76.0000   \nZinc_(mg)          2190.0    2.203644     3.816852  0.0    0.35000    1.0300   \nCopper_mg)         2190.0    0.172789     0.400712  0.0    0.04900    0.0820   \nManganese_(mg)     2190.0    0.460642     3.304517  0.0    0.01300    0.0530   \nSelenium_(Âµg)     2190.0   17.172603    45.020935  0.0    1.30000   13.1000   \nVit_C_(mg)         2190.0    6.417169    45.413955  0.0    0.00000    0.0000   \nThiamin_(mg)       2190.0    0.175046     0.357835  0.0    0.03600    0.0700   \nRiboflavin_(mg)    2190.0    0.212651     0.297205  0.0    0.05700    0.1750   \nNiacin_(mg)        2190.0    3.326551     3.610778  0.0    0.43900    2.4830   \nPanto_Acid_mg)     2190.0    0.587619     0.986117  0.0    0.19700    0.4325   \nVit_B6_(mg)        2190.0    0.258067     0.314476  0.0    0.05000    0.1530   \nFolate_Tot_(Âµg)   2190.0   31.040639    83.312945  0.0    3.00000    8.0000   \nFolic_Acid_(Âµg)   2190.0    8.912785    45.645937  0.0    0.00000    0.0000   \nFood_Folate_(Âµg)  2190.0   22.110959    68.913058  0.0    3.00000    8.0000   \nCholine_Tot_ (mg)  2190.0   47.033196    76.563341  0.0   10.70000   29.4500   \nVit_B12_(Âµg)      2190.0    0.968900     1.817280  0.0    0.00000    0.2000   \nVit_A_IU           2190.0  500.626027  2265.925224  0.0    1.00000   16.0000   \nRetinol_(Âµg)      2190.0   28.106393   156.381750  0.0    0.00000    0.0000   \nAlpha_Carot_(Âµg)  2190.0   27.085388   230.276140  0.0    0.00000    0.0000   \nBeta_Carot_(Âµg)   2190.0  225.229680  1223.839613  0.0    0.00000    0.0000   \nBeta_Crypt_(Âµg)   2190.0   11.027397   157.599182  0.0    0.00000    0.0000   \nLycopene_(Âµg)     2190.0  160.904566  1581.235863  0.0    0.00000    0.0000   \nLut+Zea_ (Âµg)     2190.0  175.679452  1115.705926  0.0    0.00000    0.0000   \nVit_E_(mg)         2190.0    0.996995     3.245555  0.0    0.11000    0.2400   \nVit_D_Âµg          2190.0    0.506438     2.067046  0.0    0.00000    0.0000   \nVit_K_(Âµg)        2190.0   13.420365    77.510651  0.0    0.10000    1.5000   \nFA_Sat_(g)         2190.0    3.424636     5.865374  0.0    0.13775    1.6375   \nFA_Mono_(g)        2190.0    3.977950     6.594901  0.0    0.12300    1.9300   \nFA_Poly_(g)        2190.0    1.924360     4.497885  0.0    0.16500    0.5550   \nCholestrl_(mg)     2190.0   42.655251   108.472712  0.0    0.00000    9.0000   \nLow_cal            2190.0    0.580365     0.493612  0.0    0.00000    1.0000   \n\n                         75%        max  \nWater_(g)           79.00000     99.900  \nEnerg_Kcal         292.75000    902.000  \nProtein_(g)         22.56750     85.600  \nLipid_Tot_(g)       13.44000    100.000  \nAsh_(g)              1.90000     99.800  \nCarbohydrt_(g)      22.30000     99.980  \nFiber_TD_(g)         2.10000     53.200  \nSugar_Tot_(g)        6.40250     99.800  \nCalcium_(mg)        55.00000   7364.000  \nIron_(mg)            2.34000     89.800  \nMagnesium_(mg)      28.00000    711.000  \nPhosphorus_(mg)    222.00000   9918.000  \nPotassium_(mg)     340.00000  16500.000  \nSodium_(mg)        347.00000  38758.000  \nZinc_(mg)            3.14000     90.950  \nCopper_mg)           0.13800      6.100  \nManganese_(mg)       0.27450    125.000  \nSelenium_(Âµg)      27.00000   1917.000  \nVit_C_(mg)           1.87500   1900.000  \nThiamin_(mg)         0.16875     10.990  \nRiboflavin_(mg)      0.26500      4.000  \nNiacin_(mg)          5.30000     45.249  \nPanto_Acid_mg)       0.73950     22.624  \nVit_B6_(mg)          0.40600      5.899  \nFolate_Tot_(Âµg)    28.00000   2340.000  \nFolic_Acid_(Âµg)     0.00000   1286.000  \nFood_Folate_(Âµg)   20.00000   2340.000  \nCholine_Tot_ (mg)   71.00000   2403.300  \nVit_B12_(Âµg)        1.40750     20.090  \nVit_A_IU           141.00000  49254.000  \nRetinol_(Âµg)        8.00000   4220.000  \nAlpha_Carot_(Âµg)    0.00000   4342.000  \nBeta_Carot_(Âµg)    11.00000  26162.000  \nBeta_Crypt_(Âµg)     0.00000   6186.000  \nLycopene_(Âµg)       0.00000  45902.000  \nLut+Zea_ (Âµg)      26.00000  19697.000  \nVit_E_(mg)           0.63000     41.080  \nVit_D_Âµg            0.20000     28.100  \nVit_K_(Âµg)          4.20000   1714.500  \nFA_Sat_(g)           4.27800     86.503  \nFA_Mono_(g)          5.33675     83.689  \nFA_Poly_(g)          1.62675     57.740  \nCholestrl_(mg)      74.00000   3100.000  \nLow_cal              1.00000      1.000  "
          },
          "metadata": {}
        }
      ]
    },
    {
      "metadata": {},
      "cell_type": "markdown",
      "source": "The `describe()` method provides a wealth of information about the `DataFrame`. For our purposes, it's particularly useful for identifying those columns whose means are much larger or much smaller than their medians (their respective 50th percentiles). Such differences indicate features in which a minority of comparatively large or small instances skew the means.\n\nCorrelated features are still an issue, so we'll remove the `Folate_DFE_(µg)`, `Vit_A_RAE`, and `Vit_D_IU` columns."
    },
    {
      "metadata": {
        "trusted": true
      },
      "cell_type": "code",
      "source": "nutr_df.drop(['Folate_DFE_(Âµg)', 'Vit_A_RAE', 'Vit_D_IU'], \n        inplace=True, axis=1)\nnutr_df.head()",
      "execution_count": null,
      "outputs": []
    },
    {
      "metadata": {},
      "cell_type": "markdown",
      "source": "### Prepare and fit the model\n\nBefore we can fit a model to find low-calorie foods, we first must define numerically for the model what we mean by \"low-calorie.\" We do this by means of a dummy variable, in this case, a new column that reads `1` if the value in a row in `Energ_Kcal` is less than equal to the mean for that column and `0` otherwise."
    },
    {
      "metadata": {
        "trusted": true
      },
      "cell_type": "code",
      "source": "nutr_df['Low_cal'] = np.where(nutr_df['Energ_Kcal']<=nutr_df['Energ_Kcal'].mean(), 1, 0)\nnutr_df.head()",
      "execution_count": null,
      "outputs": []
    },
    {
      "metadata": {},
      "cell_type": "markdown",
      "source": "Pandas creates our new column at the end of the `DataFrame`.\n\nNow to fit the model. Drawing from conventions established by the statistical community for regression models, we'll refer to our predictor features (otherwise known as the independent variables) as `X` and our response (the outcome or dependent variable) as `y`. Because we want to predict `Low_cal`, we cannot have it in `X`. Similarly, because `Low_cal` is really just a Boolean alias for `Energ_Kcal`, we should also remove `Energ_Kcal` from `X`. Finally, because the fat content of foods is generally so closely correlated with foods' energy content, we should also not include `Lipid_Tot_(g)` in `X`. (We want our model to be good but not too good to illustrate the ROC curve later in the section.)\n\n> **Technical note**\n>\n> Using capital `X` for the predictors and lower-case `y` for the response is a widely used convention in statistics and data science that we will use here and elsewhere in these courses.\n\nWe'll set `y` to just be equal to `Low_cal`."
    },
    {
      "metadata": {
        "trusted": true
      },
      "cell_type": "code",
      "source": "nutr_df.dropna()",
      "execution_count": null,
      "outputs": []
    },
    {
      "metadata": {
        "trusted": true
      },
      "cell_type": "code",
      "source": "X = nutr_df.drop(['Energ_Kcal', 'Low_cal', 'Lipid_Tot_(g)'], axis=1)\ny = nutr_df['Low_cal']",
      "execution_count": null,
      "outputs": []
    },
    {
      "metadata": {},
      "cell_type": "markdown",
      "source": "Now randomly split the data between training and test datasets. Scikit-learn's `train_test_split` is particularly convenient for this; use the `test_size` parameter to reserve 30 percent of the data for testing (and 70 percent for training). The `random_state` parameter ensures that training and test data split the same way each time so that these results are reproducible."
    },
    {
      "metadata": {
        "trusted": true
      },
      "cell_type": "code",
      "source": "from sklearn.model_selection import train_test_split\nX_train, X_test, y_train, y_test = train_test_split(X, \n                                                    y, \n                                                    test_size=0.3, \n                                                    random_state=67)",
      "execution_count": null,
      "outputs": []
    },
    {
      "metadata": {},
      "cell_type": "markdown",
      "source": "Finally, it's time to fit the model against the training data and get predictions from it against the test data."
    },
    {
      "metadata": {
        "trusted": true
      },
      "cell_type": "code",
      "source": "from sklearn.linear_model import LogisticRegression\nlr = LogisticRegression()",
      "execution_count": null,
      "outputs": []
    },
    {
      "metadata": {
        "trusted": true
      },
      "cell_type": "code",
      "source": "lr.fit(X_train,y_train)\npredictions = lr.predict(X_test)",
      "execution_count": null,
      "outputs": []
    },
    {
      "metadata": {},
      "cell_type": "markdown",
      "source": "### Assess the accuracy of the model\n\nScikit-learn provides three means of assessing the accuracy of models: the accuracy score, the confusion matrix, and the classification report.\n\nWhy so many ways of measuring accuracy for a model? Recall from the beginning of the section that success means different things in different contexts. In some cases, avoiding false negatives is paramount (such as when working with infectious diseases). In other cases, avoided false positives is essential (such as in instances involving the criminal-justice system). Other times, striking a balance of false positives and negatives is the best approach. These different measures provided the tools for data scientists to best tune their models for the problems at hand."
    },
    {
      "metadata": {
        "trusted": true
      },
      "cell_type": "code",
      "source": "from sklearn.metrics import classification_report, confusion_matrix, accuracy_score",
      "execution_count": null,
      "outputs": []
    },
    {
      "metadata": {},
      "cell_type": "markdown",
      "source": "#### Accuracy score\n\nOur accuracy score tells us the fraction of correctly classified samples: the sum of the number of correct true and false predictions divided by the number of all predictions."
    },
    {
      "metadata": {
        "trusted": true
      },
      "cell_type": "code",
      "source": "print(accuracy_score(y_test, predictions))",
      "execution_count": null,
      "outputs": []
    },
    {
      "metadata": {},
      "cell_type": "markdown",
      "source": "#### Confusion matrix\n\nThe confusion matrix is another way to present this same information, this time with raw scores. The columns show the true condition, with positive on the left and negative on the right. The rows show predicted conditions, with positive on the top and negative on the bottom. So, the matrix below shows that our model correctly predicted 258 low-calorie foods (true positives) and incorrectly predicted another 23 (false positives). On the other hand, our model correctly predicted 371 higher-calorie foods (true negatives) and incorrectly predicted 5 more (false negatives)."
    },
    {
      "metadata": {
        "trusted": true
      },
      "cell_type": "code",
      "source": "pd.DataFrame(confusion_matrix(y_test, predictions), \n             columns=['True low cal', 'True high cal'], \n             index=['Predicted low cal', 'Predicted high cal'])",
      "execution_count": null,
      "outputs": []
    },
    {
      "metadata": {},
      "cell_type": "markdown",
      "source": "The classification reports the proportions of low-calorie and high-calorie foods with four scores:\n - **Precision:** The number of true positives divided by the sum of true positives and false positives; closer to 1 is better.\n - **Recall:** The true-positive rate, which is the number of true positives divided by the sum of the true positives and the false negatives.\n - **F1 score:** The harmonic mean (the average for rates) of precision and recall.\n - **Support:** The number of true instances for each label."
    },
    {
      "metadata": {
        "trusted": true
      },
      "cell_type": "code",
      "source": "print(classification_report(y_test, predictions))",
      "execution_count": null,
      "outputs": []
    },
    {
      "metadata": {
        "collapsed": true
      },
      "cell_type": "markdown",
      "source": "> **Takeaway:** This subsection gave you a taste of performing classification using logistic regression by removing extraneous variables, checking for multicollinearity, handling missing values, and fitting and evaluating your model. In the next subsection, we'll look at visualizing the accuracy of ML models."
    },
    {
      "metadata": {},
      "cell_type": "markdown",
      "source": "## ROC Curve\n\nThe ROC curve was developed during World War II to measure the ability of radar-receiver operators to correctly identify aircraft, hence the name, \"receiver operating characteristic.\" From military application, the ROC curve made its way more broadly to signal-detection theory and from there to statistics and data science.\n\nROC curves typically plot the true positive rate on the Y axis and the false positive rate on the X axis. This means that the top-left corner of the plot is the “ideal” point: a false positive rate of 0 (zero), and a true positive rate of 1. Such an ideal is rarely (if ever) realized in practice, but it is the theoretical goal.\n\nA key concept with ROC curves is *area under the curve* (AUC), with a larger AUC representing a better model. The slope of the ROC curve is also important because it's better to maximize the true positive rate while minimizing the false positive rate.\n\nLet's find the ROC curve and AUC for the model we just trained."
    },
    {
      "metadata": {
        "trusted": true
      },
      "cell_type": "code",
      "source": "from sklearn.metrics import roc_curve, auc",
      "execution_count": null,
      "outputs": []
    },
    {
      "metadata": {},
      "cell_type": "markdown",
      "source": "In order to graph the ROC curve, we need to find the true positive rate (TPR) and false positive rate (FPR) at all thresholds of the classification."
    },
    {
      "metadata": {
        "trusted": true
      },
      "cell_type": "code",
      "source": "probs = lr.predict_proba(X_test)\nprint(probs)",
      "execution_count": null,
      "outputs": []
    },
    {
      "metadata": {},
      "cell_type": "markdown",
      "source": "The `predict_proba()` function returns estimates for both classes (high-calorie and low-calorie) for every instance in `X_test`. Because each outputted pair of numbers adds up to 1, we really only need to retain one half of each pair. We'll go with the low-calorie probabilities and we can redefine `probs` to just contain those."
    },
    {
      "metadata": {
        "trusted": true
      },
      "cell_type": "code",
      "source": "probs = probs[:,1]",
      "execution_count": null,
      "outputs": []
    },
    {
      "metadata": {},
      "cell_type": "markdown",
      "source": "The `roc_curve()` function then compares the actual values (`0` or `1`) from `y_test` against the probabilities generated by the model (`probs`) and returns the FPR, the TPR, and the thresholds (the instances of prediction by the model)."
    },
    {
      "metadata": {
        "trusted": true
      },
      "cell_type": "code",
      "source": "fpr, tpr, threshold = roc_curve(y_test, probs)",
      "execution_count": null,
      "outputs": []
    },
    {
      "metadata": {
        "trusted": true
      },
      "cell_type": "code",
      "source": "fpr",
      "execution_count": null,
      "outputs": []
    },
    {
      "metadata": {
        "trusted": true
      },
      "cell_type": "code",
      "source": "tpr",
      "execution_count": null,
      "outputs": []
    },
    {
      "metadata": {},
      "cell_type": "markdown",
      "source": "The `auc()` function computes the area under the ROC curve for our FPR and TPR values."
    },
    {
      "metadata": {
        "trusted": true
      },
      "cell_type": "code",
      "source": "rocauc = auc(fpr, tpr)",
      "execution_count": null,
      "outputs": []
    },
    {
      "metadata": {
        "trusted": true
      },
      "cell_type": "code",
      "source": "rocauc",
      "execution_count": null,
      "outputs": []
    },
    {
      "metadata": {},
      "cell_type": "markdown",
      "source": "Our model has an AUC of 0.99, which is higher than our accuracy rate of 0.96. Not only is our model accurate, but it achieves high rates of true positive classifications with very low rates of false positive classifications.\n\nLet's see this graphically."
    },
    {
      "metadata": {
        "trusted": true
      },
      "cell_type": "code",
      "source": "plt.title('Receiver Operating Characteristic (ROC) metric')\nplt.plot(fpr, tpr, 'b', label = 'AUC = %0.2f' % rocauc)\nplt.legend(loc = 'lower right')\nplt.plot([0, 1], [0, 1],'r--')\nplt.xlim([0, 1])\nplt.ylim([0, 1])\nplt.ylabel('True Positive Rate')\nplt.xlabel('False Positive Rate')\nplt.show()",
      "execution_count": null,
      "outputs": []
    },
    {
      "metadata": {},
      "cell_type": "markdown",
      "source": "> **Takeaway:** Because no ML model is perfect, it's important to know a model's TPR and FPR. The ROC curve (and the AUC figure) provide a concise means of summarizing a lot of nuance about your model's performance."
    }
  ],
  "metadata": {
    "kernelspec": {
      "name": "python3",
      "display_name": "Python 3",
      "language": "python"
    },
    "language_info": {
      "mimetype": "text/x-python",
      "nbconvert_exporter": "python",
      "name": "python",
      "file_extension": ".py",
      "version": "3.5.4",
      "pygments_lexer": "ipython3",
      "codemirror_mode": {
        "version": 3,
        "name": "ipython"
      }
    }
  },
  "nbformat": 4,
  "nbformat_minor": 1
}